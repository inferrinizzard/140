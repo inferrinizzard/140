{
  "nbformat": 4,
  "nbformat_minor": 0,
  "metadata": {
    "colab": {
      "name": "Assignment_1.ipynb",
      "provenance": [],
      "collapsed_sections": []
    },
    "kernelspec": {
      "display_name": "Python 3",
      "language": "python",
      "name": "python3"
    },
    "language_info": {
      "codemirror_mode": {
        "name": "ipython",
        "version": 3
      },
      "file_extension": ".py",
      "mimetype": "text/x-python",
      "name": "python",
      "nbconvert_exporter": "python",
      "pygments_lexer": "ipython3",
      "version": "3.7.6-final"
    }
  },
  "cells": [
    {
      "cell_type": "code",
      "execution_count": 0,
      "metadata": {
        "colab": {},
        "colab_type": "code",
        "id": "UVSevoE8ayJY"
      },
      "outputs": [],
      "source": [
        "%matplotlib inline"
      ]
    },
    {
      "cell_type": "markdown",
      "metadata": {
        "colab_type": "text",
        "id": "8Nh5RgkJayJd"
      },
      "source": [
        "# Assignment 1\n",
        "\n",
        "**Due February 2, 2020 11:59**"
      ]
    },
    {
      "cell_type": "code",
      "execution_count": 0,
      "metadata": {
        "colab": {},
        "colab_type": "code",
        "id": "RSAPQZTXayJe"
      },
      "outputs": [],
      "source": [
        "NAME = \"Sean Song\"\n",
        "STUDENT_ID = \"ssong28\""
      ]
    },
    {
      "cell_type": "markdown",
      "metadata": {
        "colab_type": "text",
        "id": "h76WFLHVv0ZM"
      },
      "source": [
        "## Problem 1\n",
        "\n",
        "Suppose the sample space of a random experiment is $\\{q,r,s,x,y \\}$ with probabilities {0.1, 0.2, 0.3, 0.3, 0.1} respectively. Let A denote the event $\\{r,s,x\\} $ and B denote the event {q,r,s}. Determine the following:"
      ]
    },
    {
      "cell_type": "markdown",
      "metadata": {
        "colab_type": "text",
        "id": "ayqxZuP7v0ZQ"
      },
      "source": [
        "#### a) P(A)"
      ]
    },
    {
      "cell_type": "markdown",
      "metadata": {
        "colab_type": "text",
        "id": "kfTdydpEy1ml"
      },
      "source": [
        "P(r,s,x) = P(r)P(s)P(x) = .2 \\* .3 \\* .3 = .018"
      ]
    },
    {
      "cell_type": "markdown",
      "metadata": {
        "colab_type": "text",
        "id": "Rd-zOPnPv0ZV"
      },
      "source": [
        "#### b) P(B)"
      ]
    },
    {
      "cell_type": "markdown",
      "metadata": {
        "colab_type": "text",
        "id": "1ZoZfIJAz1d_"
      },
      "source": [
        "P(q,r,s) = P(q)P(r)P(s) = .1 \\* .2 \\*.3 = .006\n"
      ]
    },
    {
      "cell_type": "markdown",
      "metadata": {
        "colab_type": "text",
        "id": "oCMAcEWrv0ZY"
      },
      "source": [
        "#### c) P($A^c$)"
      ]
    },
    {
      "cell_type": "markdown",
      "metadata": {
        "colab_type": "text",
        "id": "Dje8hca1z-jL"
      },
      "source": [
        "$P(A^c)$ = 1-P(A) = 1 - .018 = .982\n"
      ]
    },
    {
      "cell_type": "markdown",
      "metadata": {
        "colab_type": "text",
        "id": "kGeDVYTuv0Zc"
      },
      "source": [
        "#### d) P($A\\cup B$)"
      ]
    },
    {
      "cell_type": "markdown",
      "metadata": {
        "colab_type": "text",
        "id": "gFFQcC8Pz_PT"
      },
      "source": [
        "P(A$\\cup$B) = P(A) + P(B) - P(A$\\cap$B) = .018 + .006 - .0018 = .02222\n"
      ]
    },
    {
      "cell_type": "markdown",
      "metadata": {
        "colab_type": "text",
        "id": "ZQa9kpRHv0Zf"
      },
      "source": [
        "#### e) P($A \\cap B$)"
      ]
    },
    {
      "cell_type": "markdown",
      "metadata": {
        "colab_type": "text",
        "id": "CqjJjBEEz_tI"
      },
      "source": [
        "P(A$\\cap$B) = P(q)P(r)P(s)P(x) = .1 \\* .2 \\* .3 \\* .3 = .0018\n"
      ]
    },
    {
      "cell_type": "markdown",
      "metadata": {
        "colab_type": "text",
        "id": "JSGkFLcjv0Zh"
      },
      "source": [
        "#### f) are the events A and B independent? Show."
      ]
    },
    {
      "cell_type": "markdown",
      "metadata": {
        "colab_type": "text",
        "id": "SffHAtH_0G6b"
      },
      "source": [
        "No, P(A)P(B) $\\neq$ P(A$\\cap$B)\n"
      ]
    },
    {
      "cell_type": "markdown",
      "metadata": {
        "colab_type": "text",
        "id": "R5fC0xL_v0Zj"
      },
      "source": [
        "#### g) Are the events A and B mutual exclusive?"
      ]
    },
    {
      "cell_type": "markdown",
      "metadata": {
        "colab_type": "text",
        "id": "kJrXUzbj0HWa"
      },
      "source": [
        "No, P(A$\\cap$B) $\\neq$ 0\n"
      ]
    },
    {
      "cell_type": "markdown",
      "metadata": {
        "colab_type": "text",
        "id": "QloTpkwNv0Zu"
      },
      "source": [
        "## Problem 2  \n",
        "A random variable w has probability density function $$f_W(w)=\\left\\{\n",
        "\\begin{array}{ll}\n",
        "      c \\dot w^2, 0\\leq w \\leq2.5 \\\\\n",
        "      1/3, 2.5 <w\\leq 5 \\\\\n",
        "      0, otherwise\\\\\n",
        "\\end{array} \n",
        "\\right.  $$"
      ]
    },
    {
      "cell_type": "markdown",
      "metadata": {
        "colab_type": "text",
        "id": "64pl6AGav0Zu"
      },
      "source": [
        "#### a) solve for c."
      ]
    },
    {
      "cell_type": "markdown",
      "metadata": {
        "colab_type": "text",
        "id": "pQ6-4eHAv0Zx"
      },
      "source": [
        "$$\n",
        "\\int_0^{2.5}cw^2dw = 2/3 \n",
        "$$\n",
        "$$\n",
        "c\\frac{w^3}{3}|_0^{2.5} = 2/3\n",
        "$$\n",
        "$$\n",
        "c\\frac{{2.5}^3}{3} = 2/3\n",
        "$$\n",
        "$$\n",
        "c{2.5}^3 = 2\n",
        "$$\n",
        "$$\n",
        "c = \\frac{2}{{2.5}^3} = \\frac{16}{125}\n",
        "$$"
      ]
    },
    {
      "cell_type": "markdown",
      "metadata": {
        "colab_type": "text",
        "id": "ebN6xhT9v0Zx"
      },
      "source": [
        "### Problem 3\n",
        "Suppose x is a random variable with probability density function $$f_X(x) = \\frac{e^{-x}}{(1+e^{-x})^2}$$ with $-\\infty \\leq x < \\infty$."
      ]
    },
    {
      "cell_type": "markdown",
      "metadata": {
        "colab_type": "text",
        "id": "xhaHLVMIv0Zy"
      },
      "source": [
        "#### a) $f_X(x)$ is called the density function for the logistic distribution. Show that $f_X(x)$ is a valid probability density function."
      ]
    },
    {
      "cell_type": "markdown",
      "metadata": {
        "colab_type": "text",
        "id": "Vw97STgIv0Z0"
      },
      "source": [
        "Valid → $\\int{f_X(x)}dx$ = 1\n",
        "$$\\int_{-\\infty}^{\\infty}{\\frac{e^{-x}}{(1+e^{-x})^2}}dx = 1$$\n",
        "$$ F_X(x)|_{-\\infty}^{\\infty} $$\n",
        "$$ \\frac{1}{e^{-\\infty}+1} - \\frac{1}{e^{\\infty}+1}$$\n",
        "$$ 1 + 0 = 1$$"
      ]
    },
    {
      "cell_type": "markdown",
      "metadata": {
        "colab_type": "text",
        "id": "cbDt4Eqcv0Z0"
      },
      "source": [
        "#### b) compute the Cumulative density function, $F_X(x)$ for x."
      ]
    },
    {
      "cell_type": "markdown",
      "metadata": {
        "colab_type": "text",
        "id": "7ZjVsVXDv0Z3"
      },
      "source": [
        "$$F_X(x) = \\int{\\frac{e^{-x}}{(1+e^{-x})^2}}dx$$\n",
        "$$ u = 1+e^{-x}, du = -e^{-x} $$\n",
        "$$-\\int{\\frac{du}{u^2}} = \\frac{1}{u}$$\n",
        "$$F_X(x) = \\frac{1}{1+e^{-x}}$$\n"
      ]
    },
    {
      "cell_type": "markdown",
      "execution_count": 29,
      "metadata": {},
      "outputs": [
        {
          "ename": "SyntaxError",
          "evalue": "invalid syntax (<ipython-input-29-3d5bc8de6856>, line 3)",
          "output_type": "error",
          "traceback": [
            "\u001b[1;36m  File \u001b[1;32m\"<ipython-input-29-3d5bc8de6856>\"\u001b[1;36m, line \u001b[1;32m3\u001b[0m\n\u001b[1;33m    1) $F_X(30)$\u001b[0m\n\u001b[1;37m     ^\u001b[0m\n\u001b[1;31mSyntaxError\u001b[0m\u001b[1;31m:\u001b[0m invalid syntax\n"
          ]
        }
      ],
      "source": [
        "#### c) Compute the Following:\n",
        "\n",
        "1) $F_X(30)$ \n",
        "\n",
        "2) $F_X(4)$ \n",
        "\n",
        "3) $F_X(0.5)$ \n",
        "\n",
        "4) $F_X(0)$\n",
        "\n",
        "5) $F_X(-0.5)$\n",
        "\n",
        "6) $F_X(-4)$\n"
      ]
    },
    {
      "cell_type": "markdown",
      "metadata": {
        "colab_type": "text",
        "id": "HQfIdiLbv0Z7"
      },
      "source": [
        "$$ F_X(30) = \\frac{1}{e^{-30}+1} \\approx 1 $$\n",
        "$$ F_X(4) = \\frac{1}{e^{-4}+1} \\approx .982 $$\n",
        "$$ F_X(0.5) = \\frac{1}{e^{-.5}+1} \\approx .622 $$\n",
        "$$ F_X(0) = \\frac{1}{e^0+2} = .5 $$\n",
        "$$ F_X(-0.5) = \\frac{1}{e^{.5}+1} \\approx .378 $$\n",
        "$$ F_X(-4) = \\frac{1}{e^{4}+1} \\approx .018 $$\n"
      ]
    },
    {
      "cell_type": "markdown",
      "metadata": {
        "colab_type": "text",
        "id": "HAK-xVAzv0Z9"
      },
      "source": [
        "####  d) Plot the shape of the curve using the results in part \"c\" The cumulative density function for the logistic distribution distribution."
      ]
    },
    {
      "cell_type": "code",
      "execution_count": 33,
      "metadata": {},
      "outputs": [
        {
          "data": {
            "image/png": "[encoded data removed]",
            "image/svg+xml": "<?xml version=\"1.0\" encoding=\"utf-8\" standalone=\"no\"?>\r\n<!DOCTYPE svg PUBLIC \"-//W3C//DTD SVG 1.1//EN\"\r\n  \"http://www.w3.org/Graphics/SVG/1.1/DTD/svg11.dtd\">\r\n<!-- Created with matplotlib (https://matplotlib.org/) -->\r\n<svg height=\"262.19625pt\" version=\"1.1\" viewBox=\"0 0 385.78125 262.19625\" width=\"385.78125pt\" xmlns=\"http://www.w3.org/2000/svg\" xmlns:xlink=\"http://www.w3.org/1999/xlink\">\r\n <defs>\r\n  <style type=\"text/css\">\r\n*{stroke-linecap:butt;stroke-linejoin:round;}\r\n  </style>\r\n </defs>\r\n <g id=\"figure_1\">\r\n  <g id=\"patch_1\">\r\n   <path d=\"M 0 262.19625 \r\nL 385.78125 262.19625 \r\nL 385.78125 0 \r\nL 0 0 \r\nz\r\n\" style=\"fill:none;\"/>\r\n  </g>\r\n  <g id=\"axes_1\">\r\n   <g id=\"patch_2\">\r\n    <path d=\"M 43.78125 224.64 \r\nL 378.58125 224.64 \r\nL 378.58125 7.2 \r\nL 43.78125 7.2 \r\nz\r\n\" style=\"fill:#ffffff;\"/>\r\n   </g>\r\n   <g id=\"matplotlib.axis_1\">\r\n    <g id=\"xtick_1\">\r\n     <g id=\"line2d_1\">\r\n      <defs>\r\n       <path d=\"M 0 0 \r\nL 0 3.5 \r\n\" id=\"mfddbd2f553\" style=\"stroke:#000000;stroke-width:0.8;\"/>\r\n      </defs>\r\n      <g>\r\n       <use style=\"stroke:#000000;stroke-width:0.8;\" x=\"50.04756\" xlink:href=\"#mfddbd2f553\" y=\"224.64\"/>\r\n      </g>\r\n     </g>\r\n     <g id=\"text_1\">\r\n      <!-- −5 -->\r\n      <defs>\r\n       <path d=\"M 10.59375 35.5 \r\nL 73.1875 35.5 \r\nL 73.1875 27.203125 \r\nL 10.59375 27.203125 \r\nz\r\n\" id=\"DejaVuSans-8722\"/>\r\n       <path d=\"M 10.796875 72.90625 \r\nL 49.515625 72.90625 \r\nL 49.515625 64.59375 \r\nL 19.828125 64.59375 \r\nL 19.828125 46.734375 \r\nQ 21.96875 47.46875 24.109375 47.828125 \r\nQ 26.265625 48.1875 28.421875 48.1875 \r\nQ 40.625 48.1875 47.75 41.5 \r\nQ 54.890625 34.8125 54.890625 23.390625 \r\nQ 54.890625 11.625 47.5625 5.09375 \r\nQ 40.234375 -1.421875 26.90625 -1.421875 \r\nQ 22.3125 -1.421875 17.546875 -0.640625 \r\nQ 12.796875 0.140625 7.71875 1.703125 \r\nL 7.71875 11.625 \r\nQ 12.109375 9.234375 16.796875 8.0625 \r\nQ 21.484375 6.890625 26.703125 6.890625 \r\nQ 35.15625 6.890625 40.078125 11.328125 \r\nQ 45.015625 15.765625 45.015625 23.390625 \r\nQ 45.015625 31 40.078125 35.4375 \r\nQ 35.15625 39.890625 26.703125 39.890625 \r\nQ 22.75 39.890625 18.8125 39.015625 \r\nQ 14.890625 38.140625 10.796875 36.28125 \r\nz\r\n\" id=\"DejaVuSans-53\"/>\r\n      </defs>\r\n      <g transform=\"translate(42.676466 239.238437)scale(0.1 -0.1)\">\r\n       <use xlink:href=\"#DejaVuSans-8722\"/>\r\n       <use x=\"83.789062\" xlink:href=\"#DejaVuSans-53\"/>\r\n      </g>\r\n     </g>\r\n    </g>\r\n    <g id=\"xtick_2\">\r\n     <g id=\"line2d_2\">\r\n      <g>\r\n       <use style=\"stroke:#000000;stroke-width:0.8;\" x=\"94.806918\" xlink:href=\"#mfddbd2f553\" y=\"224.64\"/>\r\n      </g>\r\n     </g>\r\n     <g id=\"text_2\">\r\n      <!-- 0 -->\r\n      <defs>\r\n       <path d=\"M 31.78125 66.40625 \r\nQ 24.171875 66.40625 20.328125 58.90625 \r\nQ 16.5 51.421875 16.5 36.375 \r\nQ 16.5 21.390625 20.328125 13.890625 \r\nQ 24.171875 6.390625 31.78125 6.390625 \r\nQ 39.453125 6.390625 43.28125 13.890625 \r\nQ 47.125 21.390625 47.125 36.375 \r\nQ 47.125 51.421875 43.28125 58.90625 \r\nQ 39.453125 66.40625 31.78125 66.40625 \r\nz\r\nM 31.78125 74.21875 \r\nQ 44.046875 74.21875 50.515625 64.515625 \r\nQ 56.984375 54.828125 56.984375 36.375 \r\nQ 56.984375 17.96875 50.515625 8.265625 \r\nQ 44.046875 -1.421875 31.78125 -1.421875 \r\nQ 19.53125 -1.421875 13.0625 8.265625 \r\nQ 6.59375 17.96875 6.59375 36.375 \r\nQ 6.59375 54.828125 13.0625 64.515625 \r\nQ 19.53125 74.21875 31.78125 74.21875 \r\nz\r\n\" id=\"DejaVuSans-48\"/>\r\n      </defs>\r\n      <g transform=\"translate(91.625668 239.238437)scale(0.1 -0.1)\">\r\n       <use xlink:href=\"#DejaVuSans-48\"/>\r\n      </g>\r\n     </g>\r\n    </g>\r\n    <g id=\"xtick_3\">\r\n     <g id=\"line2d_3\">\r\n      <g>\r\n       <use style=\"stroke:#000000;stroke-width:0.8;\" x=\"139.566277\" xlink:href=\"#mfddbd2f553\" y=\"224.64\"/>\r\n      </g>\r\n     </g>\r\n     <g id=\"text_3\">\r\n      <!-- 5 -->\r\n      <g transform=\"translate(136.385027 239.238437)scale(0.1 -0.1)\">\r\n       <use xlink:href=\"#DejaVuSans-53\"/>\r\n      </g>\r\n     </g>\r\n    </g>\r\n    <g id=\"xtick_4\">\r\n     <g id=\"line2d_4\">\r\n      <g>\r\n       <use style=\"stroke:#000000;stroke-width:0.8;\" x=\"184.325635\" xlink:href=\"#mfddbd2f553\" y=\"224.64\"/>\r\n      </g>\r\n     </g>\r\n     <g id=\"text_4\">\r\n      <!-- 10 -->\r\n      <defs>\r\n       <path d=\"M 12.40625 8.296875 \r\nL 28.515625 8.296875 \r\nL 28.515625 63.921875 \r\nL 10.984375 60.40625 \r\nL 10.984375 69.390625 \r\nL 28.421875 72.90625 \r\nL 38.28125 72.90625 \r\nL 38.28125 8.296875 \r\nL 54.390625 8.296875 \r\nL 54.390625 0 \r\nL 12.40625 0 \r\nz\r\n\" id=\"DejaVuSans-49\"/>\r\n      </defs>\r\n      <g transform=\"translate(177.963135 239.238437)scale(0.1 -0.1)\">\r\n       <use xlink:href=\"#DejaVuSans-49\"/>\r\n       <use x=\"63.623047\" xlink:href=\"#DejaVuSans-48\"/>\r\n      </g>\r\n     </g>\r\n    </g>\r\n    <g id=\"xtick_5\">\r\n     <g id=\"line2d_5\">\r\n      <g>\r\n       <use style=\"stroke:#000000;stroke-width:0.8;\" x=\"229.084993\" xlink:href=\"#mfddbd2f553\" y=\"224.64\"/>\r\n      </g>\r\n     </g>\r\n     <g id=\"text_5\">\r\n      <!-- 15 -->\r\n      <g transform=\"translate(222.722493 239.238437)scale(0.1 -0.1)\">\r\n       <use xlink:href=\"#DejaVuSans-49\"/>\r\n       <use x=\"63.623047\" xlink:href=\"#DejaVuSans-53\"/>\r\n      </g>\r\n     </g>\r\n    </g>\r\n    <g id=\"xtick_6\">\r\n     <g id=\"line2d_6\">\r\n      <g>\r\n       <use style=\"stroke:#000000;stroke-width:0.8;\" x=\"273.844352\" xlink:href=\"#mfddbd2f553\" y=\"224.64\"/>\r\n      </g>\r\n     </g>\r\n     <g id=\"text_6\">\r\n      <!-- 20 -->\r\n      <defs>\r\n       <path d=\"M 19.1875 8.296875 \r\nL 53.609375 8.296875 \r\nL 53.609375 0 \r\nL 7.328125 0 \r\nL 7.328125 8.296875 \r\nQ 12.9375 14.109375 22.625 23.890625 \r\nQ 32.328125 33.6875 34.8125 36.53125 \r\nQ 39.546875 41.84375 41.421875 45.53125 \r\nQ 43.3125 49.21875 43.3125 52.78125 \r\nQ 43.3125 58.59375 39.234375 62.25 \r\nQ 35.15625 65.921875 28.609375 65.921875 \r\nQ 23.96875 65.921875 18.8125 64.3125 \r\nQ 13.671875 62.703125 7.8125 59.421875 \r\nL 7.8125 69.390625 \r\nQ 13.765625 71.78125 18.9375 73 \r\nQ 24.125 74.21875 28.421875 74.21875 \r\nQ 39.75 74.21875 46.484375 68.546875 \r\nQ 53.21875 62.890625 53.21875 53.421875 \r\nQ 53.21875 48.921875 51.53125 44.890625 \r\nQ 49.859375 40.875 45.40625 35.40625 \r\nQ 44.1875 33.984375 37.640625 27.21875 \r\nQ 31.109375 20.453125 19.1875 8.296875 \r\nz\r\n\" id=\"DejaVuSans-50\"/>\r\n      </defs>\r\n      <g transform=\"translate(267.481852 239.238437)scale(0.1 -0.1)\">\r\n       <use xlink:href=\"#DejaVuSans-50\"/>\r\n       <use x=\"63.623047\" xlink:href=\"#DejaVuSans-48\"/>\r\n      </g>\r\n     </g>\r\n    </g>\r\n    <g id=\"xtick_7\">\r\n     <g id=\"line2d_7\">\r\n      <g>\r\n       <use style=\"stroke:#000000;stroke-width:0.8;\" x=\"318.60371\" xlink:href=\"#mfddbd2f553\" y=\"224.64\"/>\r\n      </g>\r\n     </g>\r\n     <g id=\"text_7\">\r\n      <!-- 25 -->\r\n      <g transform=\"translate(312.24121 239.238437)scale(0.1 -0.1)\">\r\n       <use xlink:href=\"#DejaVuSans-50\"/>\r\n       <use x=\"63.623047\" xlink:href=\"#DejaVuSans-53\"/>\r\n      </g>\r\n     </g>\r\n    </g>\r\n    <g id=\"xtick_8\">\r\n     <g id=\"line2d_8\">\r\n      <g>\r\n       <use style=\"stroke:#000000;stroke-width:0.8;\" x=\"363.363068\" xlink:href=\"#mfddbd2f553\" y=\"224.64\"/>\r\n      </g>\r\n     </g>\r\n     <g id=\"text_8\">\r\n      <!-- 30 -->\r\n      <defs>\r\n       <path d=\"M 40.578125 39.3125 \r\nQ 47.65625 37.796875 51.625 33 \r\nQ 55.609375 28.21875 55.609375 21.1875 \r\nQ 55.609375 10.40625 48.1875 4.484375 \r\nQ 40.765625 -1.421875 27.09375 -1.421875 \r\nQ 22.515625 -1.421875 17.65625 -0.515625 \r\nQ 12.796875 0.390625 7.625 2.203125 \r\nL 7.625 11.71875 \r\nQ 11.71875 9.328125 16.59375 8.109375 \r\nQ 21.484375 6.890625 26.8125 6.890625 \r\nQ 36.078125 6.890625 40.9375 10.546875 \r\nQ 45.796875 14.203125 45.796875 21.1875 \r\nQ 45.796875 27.640625 41.28125 31.265625 \r\nQ 36.765625 34.90625 28.71875 34.90625 \r\nL 20.21875 34.90625 \r\nL 20.21875 43.015625 \r\nL 29.109375 43.015625 \r\nQ 36.375 43.015625 40.234375 45.921875 \r\nQ 44.09375 48.828125 44.09375 54.296875 \r\nQ 44.09375 59.90625 40.109375 62.90625 \r\nQ 36.140625 65.921875 28.71875 65.921875 \r\nQ 24.65625 65.921875 20.015625 65.03125 \r\nQ 15.375 64.15625 9.8125 62.3125 \r\nL 9.8125 71.09375 \r\nQ 15.4375 72.65625 20.34375 73.4375 \r\nQ 25.25 74.21875 29.59375 74.21875 \r\nQ 40.828125 74.21875 47.359375 69.109375 \r\nQ 53.90625 64.015625 53.90625 55.328125 \r\nQ 53.90625 49.265625 50.4375 45.09375 \r\nQ 46.96875 40.921875 40.578125 39.3125 \r\nz\r\n\" id=\"DejaVuSans-51\"/>\r\n      </defs>\r\n      <g transform=\"translate(357.000568 239.238437)scale(0.1 -0.1)\">\r\n       <use xlink:href=\"#DejaVuSans-51\"/>\r\n       <use x=\"63.623047\" xlink:href=\"#DejaVuSans-48\"/>\r\n      </g>\r\n     </g>\r\n    </g>\r\n    <g id=\"text_9\">\r\n     <!-- x -->\r\n     <defs>\r\n      <path d=\"M 54.890625 54.6875 \r\nL 35.109375 28.078125 \r\nL 55.90625 0 \r\nL 45.3125 0 \r\nL 29.390625 21.484375 \r\nL 13.484375 0 \r\nL 2.875 0 \r\nL 24.125 28.609375 \r\nL 4.6875 54.6875 \r\nL 15.28125 54.6875 \r\nL 29.78125 35.203125 \r\nL 44.28125 54.6875 \r\nz\r\n\" id=\"DejaVuSans-120\"/>\r\n     </defs>\r\n     <g transform=\"translate(208.221875 252.916562)scale(0.1 -0.1)\">\r\n      <use xlink:href=\"#DejaVuSans-120\"/>\r\n     </g>\r\n    </g>\r\n   </g>\r\n   <g id=\"matplotlib.axis_2\">\r\n    <g id=\"ytick_1\">\r\n     <g id=\"line2d_9\">\r\n      <defs>\r\n       <path d=\"M 0 0 \r\nL -3.5 0 \r\n\" id=\"mf48968edac\" style=\"stroke:#000000;stroke-width:0.8;\"/>\r\n      </defs>\r\n      <g>\r\n       <use style=\"stroke:#000000;stroke-width:0.8;\" x=\"43.78125\" xlink:href=\"#mf48968edac\" y=\"218.376866\"/>\r\n      </g>\r\n     </g>\r\n     <g id=\"text_10\">\r\n      <!-- 0.0 -->\r\n      <defs>\r\n       <path d=\"M 10.6875 12.40625 \r\nL 21 12.40625 \r\nL 21 0 \r\nL 10.6875 0 \r\nz\r\n\" id=\"DejaVuSans-46\"/>\r\n      </defs>\r\n      <g transform=\"translate(20.878125 222.176085)scale(0.1 -0.1)\">\r\n       <use xlink:href=\"#DejaVuSans-48\"/>\r\n       <use x=\"63.623047\" xlink:href=\"#DejaVuSans-46\"/>\r\n       <use x=\"95.410156\" xlink:href=\"#DejaVuSans-48\"/>\r\n      </g>\r\n     </g>\r\n    </g>\r\n    <g id=\"ytick_2\">\r\n     <g id=\"line2d_10\">\r\n      <g>\r\n       <use style=\"stroke:#000000;stroke-width:0.8;\" x=\"43.78125\" xlink:href=\"#mf48968edac\" y=\"178.11822\"/>\r\n      </g>\r\n     </g>\r\n     <g id=\"text_11\">\r\n      <!-- 0.2 -->\r\n      <g transform=\"translate(20.878125 181.917439)scale(0.1 -0.1)\">\r\n       <use xlink:href=\"#DejaVuSans-48\"/>\r\n       <use x=\"63.623047\" xlink:href=\"#DejaVuSans-46\"/>\r\n       <use x=\"95.410156\" xlink:href=\"#DejaVuSans-50\"/>\r\n      </g>\r\n     </g>\r\n    </g>\r\n    <g id=\"ytick_3\">\r\n     <g id=\"line2d_11\">\r\n      <g>\r\n       <use style=\"stroke:#000000;stroke-width:0.8;\" x=\"43.78125\" xlink:href=\"#mf48968edac\" y=\"137.859574\"/>\r\n      </g>\r\n     </g>\r\n     <g id=\"text_12\">\r\n      <!-- 0.4 -->\r\n      <defs>\r\n       <path d=\"M 37.796875 64.3125 \r\nL 12.890625 25.390625 \r\nL 37.796875 25.390625 \r\nz\r\nM 35.203125 72.90625 \r\nL 47.609375 72.90625 \r\nL 47.609375 25.390625 \r\nL 58.015625 25.390625 \r\nL 58.015625 17.1875 \r\nL 47.609375 17.1875 \r\nL 47.609375 0 \r\nL 37.796875 0 \r\nL 37.796875 17.1875 \r\nL 4.890625 17.1875 \r\nL 4.890625 26.703125 \r\nz\r\n\" id=\"DejaVuSans-52\"/>\r\n      </defs>\r\n      <g transform=\"translate(20.878125 141.658793)scale(0.1 -0.1)\">\r\n       <use xlink:href=\"#DejaVuSans-48\"/>\r\n       <use x=\"63.623047\" xlink:href=\"#DejaVuSans-46\"/>\r\n       <use x=\"95.410156\" xlink:href=\"#DejaVuSans-52\"/>\r\n      </g>\r\n     </g>\r\n    </g>\r\n    <g id=\"ytick_4\">\r\n     <g id=\"line2d_12\">\r\n      <g>\r\n       <use style=\"stroke:#000000;stroke-width:0.8;\" x=\"43.78125\" xlink:href=\"#mf48968edac\" y=\"97.600928\"/>\r\n      </g>\r\n     </g>\r\n     <g id=\"text_13\">\r\n      <!-- 0.6 -->\r\n      <defs>\r\n       <path d=\"M 33.015625 40.375 \r\nQ 26.375 40.375 22.484375 35.828125 \r\nQ 18.609375 31.296875 18.609375 23.390625 \r\nQ 18.609375 15.53125 22.484375 10.953125 \r\nQ 26.375 6.390625 33.015625 6.390625 \r\nQ 39.65625 6.390625 43.53125 10.953125 \r\nQ 47.40625 15.53125 47.40625 23.390625 \r\nQ 47.40625 31.296875 43.53125 35.828125 \r\nQ 39.65625 40.375 33.015625 40.375 \r\nz\r\nM 52.59375 71.296875 \r\nL 52.59375 62.3125 \r\nQ 48.875 64.0625 45.09375 64.984375 \r\nQ 41.3125 65.921875 37.59375 65.921875 \r\nQ 27.828125 65.921875 22.671875 59.328125 \r\nQ 17.53125 52.734375 16.796875 39.40625 \r\nQ 19.671875 43.65625 24.015625 45.921875 \r\nQ 28.375 48.1875 33.59375 48.1875 \r\nQ 44.578125 48.1875 50.953125 41.515625 \r\nQ 57.328125 34.859375 57.328125 23.390625 \r\nQ 57.328125 12.15625 50.6875 5.359375 \r\nQ 44.046875 -1.421875 33.015625 -1.421875 \r\nQ 20.359375 -1.421875 13.671875 8.265625 \r\nQ 6.984375 17.96875 6.984375 36.375 \r\nQ 6.984375 53.65625 15.1875 63.9375 \r\nQ 23.390625 74.21875 37.203125 74.21875 \r\nQ 40.921875 74.21875 44.703125 73.484375 \r\nQ 48.484375 72.75 52.59375 71.296875 \r\nz\r\n\" id=\"DejaVuSans-54\"/>\r\n      </defs>\r\n      <g transform=\"translate(20.878125 101.400147)scale(0.1 -0.1)\">\r\n       <use xlink:href=\"#DejaVuSans-48\"/>\r\n       <use x=\"63.623047\" xlink:href=\"#DejaVuSans-46\"/>\r\n       <use x=\"95.410156\" xlink:href=\"#DejaVuSans-54\"/>\r\n      </g>\r\n     </g>\r\n    </g>\r\n    <g id=\"ytick_5\">\r\n     <g id=\"line2d_13\">\r\n      <g>\r\n       <use style=\"stroke:#000000;stroke-width:0.8;\" x=\"43.78125\" xlink:href=\"#mf48968edac\" y=\"57.342282\"/>\r\n      </g>\r\n     </g>\r\n     <g id=\"text_14\">\r\n      <!-- 0.8 -->\r\n      <defs>\r\n       <path d=\"M 31.78125 34.625 \r\nQ 24.75 34.625 20.71875 30.859375 \r\nQ 16.703125 27.09375 16.703125 20.515625 \r\nQ 16.703125 13.921875 20.71875 10.15625 \r\nQ 24.75 6.390625 31.78125 6.390625 \r\nQ 38.8125 6.390625 42.859375 10.171875 \r\nQ 46.921875 13.96875 46.921875 20.515625 \r\nQ 46.921875 27.09375 42.890625 30.859375 \r\nQ 38.875 34.625 31.78125 34.625 \r\nz\r\nM 21.921875 38.8125 \r\nQ 15.578125 40.375 12.03125 44.71875 \r\nQ 8.5 49.078125 8.5 55.328125 \r\nQ 8.5 64.0625 14.71875 69.140625 \r\nQ 20.953125 74.21875 31.78125 74.21875 \r\nQ 42.671875 74.21875 48.875 69.140625 \r\nQ 55.078125 64.0625 55.078125 55.328125 \r\nQ 55.078125 49.078125 51.53125 44.71875 \r\nQ 48 40.375 41.703125 38.8125 \r\nQ 48.828125 37.15625 52.796875 32.3125 \r\nQ 56.78125 27.484375 56.78125 20.515625 \r\nQ 56.78125 9.90625 50.3125 4.234375 \r\nQ 43.84375 -1.421875 31.78125 -1.421875 \r\nQ 19.734375 -1.421875 13.25 4.234375 \r\nQ 6.78125 9.90625 6.78125 20.515625 \r\nQ 6.78125 27.484375 10.78125 32.3125 \r\nQ 14.796875 37.15625 21.921875 38.8125 \r\nz\r\nM 18.3125 54.390625 \r\nQ 18.3125 48.734375 21.84375 45.5625 \r\nQ 25.390625 42.390625 31.78125 42.390625 \r\nQ 38.140625 42.390625 41.71875 45.5625 \r\nQ 45.3125 48.734375 45.3125 54.390625 \r\nQ 45.3125 60.0625 41.71875 63.234375 \r\nQ 38.140625 66.40625 31.78125 66.40625 \r\nQ 25.390625 66.40625 21.84375 63.234375 \r\nQ 18.3125 60.0625 18.3125 54.390625 \r\nz\r\n\" id=\"DejaVuSans-56\"/>\r\n      </defs>\r\n      <g transform=\"translate(20.878125 61.141501)scale(0.1 -0.1)\">\r\n       <use xlink:href=\"#DejaVuSans-48\"/>\r\n       <use x=\"63.623047\" xlink:href=\"#DejaVuSans-46\"/>\r\n       <use x=\"95.410156\" xlink:href=\"#DejaVuSans-56\"/>\r\n      </g>\r\n     </g>\r\n    </g>\r\n    <g id=\"ytick_6\">\r\n     <g id=\"line2d_14\">\r\n      <g>\r\n       <use style=\"stroke:#000000;stroke-width:0.8;\" x=\"43.78125\" xlink:href=\"#mf48968edac\" y=\"17.083636\"/>\r\n      </g>\r\n     </g>\r\n     <g id=\"text_15\">\r\n      <!-- 1.0 -->\r\n      <g transform=\"translate(20.878125 20.882855)scale(0.1 -0.1)\">\r\n       <use xlink:href=\"#DejaVuSans-49\"/>\r\n       <use x=\"63.623047\" xlink:href=\"#DejaVuSans-46\"/>\r\n       <use x=\"95.410156\" xlink:href=\"#DejaVuSans-48\"/>\r\n      </g>\r\n     </g>\r\n    </g>\r\n    <g id=\"text_16\">\r\n     <!-- Fx(x) -->\r\n     <defs>\r\n      <path d=\"M 9.8125 72.90625 \r\nL 51.703125 72.90625 \r\nL 51.703125 64.59375 \r\nL 19.671875 64.59375 \r\nL 19.671875 43.109375 \r\nL 48.578125 43.109375 \r\nL 48.578125 34.8125 \r\nL 19.671875 34.8125 \r\nL 19.671875 0 \r\nL 9.8125 0 \r\nz\r\n\" id=\"DejaVuSans-70\"/>\r\n      <path d=\"M 31 75.875 \r\nQ 24.46875 64.65625 21.28125 53.65625 \r\nQ 18.109375 42.671875 18.109375 31.390625 \r\nQ 18.109375 20.125 21.3125 9.0625 \r\nQ 24.515625 -2 31 -13.1875 \r\nL 23.1875 -13.1875 \r\nQ 15.875 -1.703125 12.234375 9.375 \r\nQ 8.59375 20.453125 8.59375 31.390625 \r\nQ 8.59375 42.28125 12.203125 53.3125 \r\nQ 15.828125 64.359375 23.1875 75.875 \r\nz\r\n\" id=\"DejaVuSans-40\"/>\r\n      <path d=\"M 8.015625 75.875 \r\nL 15.828125 75.875 \r\nQ 23.140625 64.359375 26.78125 53.3125 \r\nQ 30.421875 42.28125 30.421875 31.390625 \r\nQ 30.421875 20.453125 26.78125 9.375 \r\nQ 23.140625 -1.703125 15.828125 -13.1875 \r\nL 8.015625 -13.1875 \r\nQ 14.5 -2 17.703125 9.0625 \r\nQ 20.90625 20.125 20.90625 31.390625 \r\nQ 20.90625 42.671875 17.703125 53.65625 \r\nQ 14.5 64.65625 8.015625 75.875 \r\nz\r\n\" id=\"DejaVuSans-41\"/>\r\n     </defs>\r\n     <g transform=\"translate(14.798438 128.616094)rotate(-90)scale(0.1 -0.1)\">\r\n      <use xlink:href=\"#DejaVuSans-70\"/>\r\n      <use x=\"57.519531\" xlink:href=\"#DejaVuSans-120\"/>\r\n      <use x=\"116.699219\" xlink:href=\"#DejaVuSans-40\"/>\r\n      <use x=\"155.712891\" xlink:href=\"#DejaVuSans-120\"/>\r\n      <use x=\"214.892578\" xlink:href=\"#DejaVuSans-41\"/>\r\n     </g>\r\n    </g>\r\n   </g>\r\n   <g id=\"line2d_15\">\r\n    <path clip-path=\"url(#p7f9d345ae5)\" d=\"M 363.363068 17.083636 \r\nL 130.614405 20.704139 \r\nL 99.282854 93.080017 \r\nL 94.806918 117.730251 \r\nL 90.330983 142.380485 \r\nL 58.999432 214.756364 \r\n\" style=\"fill:none;stroke:#1f77b4;stroke-linecap:square;stroke-width:1.5;\"/>\r\n   </g>\r\n   <g id=\"patch_3\">\r\n    <path d=\"M 43.78125 224.64 \r\nL 43.78125 7.2 \r\n\" style=\"fill:none;stroke:#000000;stroke-linecap:square;stroke-linejoin:miter;stroke-width:0.8;\"/>\r\n   </g>\r\n   <g id=\"patch_4\">\r\n    <path d=\"M 378.58125 224.64 \r\nL 378.58125 7.2 \r\n\" style=\"fill:none;stroke:#000000;stroke-linecap:square;stroke-linejoin:miter;stroke-width:0.8;\"/>\r\n   </g>\r\n   <g id=\"patch_5\">\r\n    <path d=\"M 43.78125 224.64 \r\nL 378.58125 224.64 \r\n\" style=\"fill:none;stroke:#000000;stroke-linecap:square;stroke-linejoin:miter;stroke-width:0.8;\"/>\r\n   </g>\r\n   <g id=\"patch_6\">\r\n    <path d=\"M 43.78125 7.2 \r\nL 378.58125 7.2 \r\n\" style=\"fill:none;stroke:#000000;stroke-linecap:square;stroke-linejoin:miter;stroke-width:0.8;\"/>\r\n   </g>\r\n  </g>\r\n </g>\r\n <defs>\r\n  <clipPath id=\"p7f9d345ae5\">\r\n   <rect height=\"217.44\" width=\"334.8\" x=\"43.78125\" y=\"7.2\"/>\r\n  </clipPath>\r\n </defs>\r\n</svg>\r\n",
            "text/plain": "<Figure size 432x288 with 1 Axes>"
          },
          "metadata": {
            "needs_background": "light"
          },
          "output_type": "display_data"
        }
      ],
      "source": [
        "from numpy import exp\n",
        "import matplotlib.pyplot as plt\n",
        "p3d_x = [30,4,.5,0,-.5,-4]\n",
        "p3d_fx = lambda x: 1/(exp(-x)+1)\n",
        "p3d_y = [p3d_fx(x) for x in p3d_x]\n",
        "plt.plot(p3d_x, p3d_y)\n",
        "plt.ylabel('Fx(x)')\n",
        "plt.xlabel('x')\n",
        "plt.show()"
      ]
    },
    {
      "cell_type": "markdown",
      "metadata": {
        "colab_type": "text",
        "id": "0w94BYobayJh"
      },
      "source": [
        "## Problem 4\n",
        "\n",
        "Write down the factored conditional probability expression that corresponds\n",
        "to the graphical Bayesian Network shown bellow:\n",
        "\n",
        "\n",
        "![bn1](https://alliance.seas.upenn.edu/~cis520/dynamic/2018/wiki/uploads/Lectures/example_trails_bn_small.png)\n",
        "\n",
        "\n"
      ]
    },
    {
      "cell_type": "markdown",
      "metadata": {
        "colab_type": "text",
        "id": "1wV-xIShayJh"
      },
      "source": [
        "P(A), P(G)\n",
        "\n",
        "P(B) = P(B|A)\n",
        "\n",
        "P(H) = P(H|A,G)\n",
        "\n",
        "P(F) = P(F|G)\n",
        "\n",
        "P(J) = P(J|G)\n",
        "\n",
        "P(C) = P(C|B,A)\n",
        "\n",
        "P(E) = P(E|F,G)\n",
        "\n",
        "P(I) = P(I|H,A,G)\n",
        "\n",
        "P(D) = P(D|C,E,B,F,A,G)\n",
        "\n",
        "\n"
      ]
    },
    {
      "cell_type": "markdown",
      "metadata": {
        "colab_type": "text",
        "id": "4YAGVTJyayJi"
      },
      "source": [
        "## Problem 5\n",
        "\n",
        "Given the following Bayesian Network, find the joint probability. Write out the product of probabilities and conditional probabilites that lead to your numeric answer as well as reporting your numeric answer.\n",
        "\n",
        " ![bn2](https://drive.google.com/uc?id=1TKufu8R4QmgAY2hL3dN8BK6m6jif8L2k)\n",
        "\n",
        "\n"
      ]
    },
    {
      "cell_type": "markdown",
      "metadata": {
        "colab_type": "text",
        "id": "zopBGTXeayJj"
      },
      "source": [
        "#### a) $~~~$ P(Cloudy, Sprinkler, Rain, Wet_Grass) \n",
        "\n"
      ]
    },
    {
      "cell_type": "markdown",
      "metadata": {
        "colab_type": "text",
        "id": "dgDcTIIa3Tc8"
      },
      "source": [
        "P(C, S, R, G) = P(C|S, R, G) P((S,R)|G)\n",
        "\n",
        "P = .99 \\* (.5 \\* .1 + .5 \\* .8)\n",
        "\n",
        "P(C, S, R, G) = .891\n"
      ]
    },
    {
      "cell_type": "markdown",
      "metadata": {
        "colab_type": "text",
        "id": "6ovN0EmA3I3S"
      },
      "source": [
        "\n",
        "#### b) $~~~$  P(Cloudy, not Sprinkler, Rain, Wet_Grass) \n"
      ]
    },
    {
      "cell_type": "markdown",
      "metadata": {
        "colab_type": "text",
        "id": "6oyK5fNI3T11"
      },
      "source": [
        "P(C, S', R, G) = P(C|S', R, G) P((S',R)|G)\n",
        "\n",
        "P = (.5 \\* .9 + .5 \\* .8) \\* .9\n",
        "\n",
        "P(C, S', R, G) = .765\n"
      ]
    },
    {
      "cell_type": "markdown",
      "metadata": {
        "colab_type": "text",
        "id": "nk9KcnXW3Iap"
      },
      "source": [
        "#### c)  $~~~$   If a) < b), why?  $~~~$  OR $~~~$  If a) > b), why?\n"
      ]
    },
    {
      "cell_type": "markdown",
      "metadata": {
        "colab_type": "text",
        "id": "Mutsz0BG3UNv"
      },
      "source": [
        "a > b\n",
        "\n",
        "P(S,R) includes\n",
        "\n"
      ]
    },
    {
      "cell_type": "markdown",
      "metadata": {
        "colab_type": "text",
        "id": "XvP5w8ZsayJk"
      },
      "source": [
        "### Logistic Regression ###\n",
        "\n",
        "**Refer to the following derivation of the gradient when implementing logistic regression in problem 6 below.**\n",
        "\n",
        "For this assignment we'll use the sum of squared error, and gradient descent. Suppose our dataset consists of $n$ records, each with $m$ features:\n",
        "\n",
        "$$X =\n",
        "\\begin{bmatrix}\n",
        "    x_{01}       & x_{02} & \\cdots & x_{0m} \\\\\n",
        "    x_{11}       & x_{12} & \\cdots & x_{1m} \\\\\n",
        "    \\vdots       & \\vdots & \\ddots & \\vdots \\\\\n",
        "    x_{n-1,1}       & x_{n-1,2} & \\cdots & x_{n-1,m}\n",
        "\\end{bmatrix}\n",
        "$$\n",
        "\n",
        "One way to include a bias is to augment $X$ with a column of ones:\n",
        "\n",
        "$$X =\n",
        "\\begin{bmatrix}\n",
        "    1 & x_{01}       & x_{02} & \\cdots & x_{0m} \\\\\n",
        "    1 & x_{11}       & x_{12} & \\cdots & x_{1m} \\\\\n",
        "    \\vdots  & \\vdots & \\vdots & \\ddots & \\vdots \\\\\n",
        "    1 & x_{n-1,1}       & x_{n-1,2} & \\cdots & x_{n-1,m}\n",
        "\\end{bmatrix}\n",
        "$$\n",
        "\n",
        "We also have $n$ labels corresponding to the correct classification of each of the above records, $y=[y_0,y_1,\\cdots ,y_{n-1}]^T$, i.e.:\n",
        "\n",
        "$$y =\n",
        "\\begin{bmatrix}\n",
        "    y_0  \\\\\n",
        "    y_1  \\\\\n",
        "    \\vdots   \\\\\n",
        "    y_{n-1} \n",
        "\\end{bmatrix}\n",
        "$$\n",
        "\n",
        "We will try to find the optimal parameter values $w = [w_0, w_1, \\cdots, w_m]^T$ of our logistic regression model, where $w_0$ is the bias weight. To simplify our notation, let\n",
        " \n",
        "$$z = X w^T =\n",
        "\\begin{bmatrix}\n",
        "    X_{00}w_0 + X_{01}w_1 + \\cdots + X_{0m}w_m  \\\\\n",
        "    X_{10}w_0 + X_{11}w_1 + \\cdots + X_{1m}w_m  \\\\\n",
        "    \\vdots   \\\\\n",
        "    X_{n-1,0}w_0 + X_{n-1,1}w_1 + \\cdots + X_{n-1,m}w_m \n",
        "\\end{bmatrix} =\n",
        "\\begin{bmatrix}\n",
        "    z_0  \\\\\n",
        "    z_2  \\\\\n",
        "    \\vdots   \\\\\n",
        "    z_{n-1}\n",
        "\\end{bmatrix}\n",
        "$$\n",
        "\n",
        "We seek $w$ such that the sum of squared error is minimized (the 1/2 factor makes the derivation easier):\n",
        "\n",
        "$$\\text{SSE} = \\frac{1}{2} \\sum_{i=0}^{n-1} (y_i - h_i)^2$$\n",
        "\n",
        "Since the above is a convex function, it has a unique minimum value. Taking the derivative with respect to $w_i$, we get:\n",
        "\n",
        "$$\\frac{d}{dw_j}\\text{SSE} = \\frac{1}{2} \\sum_{i=0}^{n-1} \\frac{d}{dw_j}(y_i - \\sigma(z_i))^2$$\n",
        "\n",
        "$$\\quad \\quad \\quad \\quad= \\sum_{i=0}^{n-1} (y_i - \\sigma(z_i)) \\frac{d}{dw_j} (-\\sigma(z_i))$$\n",
        "\n",
        "Recall the chain rule from calculus, and that each $z_j$ is a funcion of the $w_i$, and also that $\\frac{d}{dz}\\sigma(z)=\\sigma(z)(1-\\sigma(z))$, so the above becomes:\n",
        "\n",
        "$$\\frac{d}{dw_j}\\text{SSE} = -\\sum_{i=0}^{n-1} (y_i - \\sigma(z_i))  \\sigma(z_i) (1 -  \\sigma(z_i)) \\frac{d}{dw_j} z_i$$\n",
        "\n",
        "$$\\quad \\quad \\quad= -\\sum_{i=0}^{n-1} (y_i - \\sigma(z_i))  \\sigma(z_i) (1 -  \\sigma(z_i)) x_{ij}$$\n",
        "\n",
        "This can be written in matrix form as:\n",
        "$$\\nabla \\text{SSE} = -X^T [(y-\\sigma(z))\\sigma(z)(1-\\sigma(z))]$$\n",
        "\n",
        "The expression in the brackets is computed element-wise before taking the matrix product with $X$ transpose.\n",
        "\n",
        "We are taking a step in the opposite direction of the gradient, i.e. in the direction:\n",
        "\n",
        "$$-\\nabla \\text{SSE} = X^T [(y-\\sigma(z))\\sigma(z)(1-\\sigma(z))]$$\n",
        "\n",
        "Letting $h = \\sigma(z)$, this becomes:\n",
        "$$-\\nabla \\text{SSE} = X^T [(y-h)h(1-h)] \\quad\\quad (\\star)$$\n",
        "\n",
        "The above expression defines an $m\\times 1$ vector we use to update the $m$ weights that are the components of $w$.\n",
        "\n",
        "\n",
        "#### Note: #### \n",
        "The variables within brackets above, $[(y-h)h(1-h)]$, are column vectors (i.e. arrays of size $(n,1)$), and that the operations subtraction and multiplication are done component wise. The sigmoid function $\\sigma$ was also applied componentwise to obtain $h$ from $z$."
      ]
    },
    {
      "cell_type": "markdown",
      "metadata": {
        "colab_type": "text",
        "id": "aUx1vmBKayJl"
      },
      "source": [
        "## Problem 6\n",
        "\n",
        "Given the dataset below, implement the logistic regression algorithm, optimizing the parameters using gradient descent and squared error as the loss function. For this to go smoothly, be sure to understand what needs to be implemented in the above derivation. *Then the helper functions will almost write themselves.*"
      ]
    },
    {
      "cell_type": "code",
      "execution_count": 40,
      "metadata": {},
      "outputs": [
        {
          "name": "stdout",
          "output_type": "stream",
          "text": "data.shape = (500, 2) ,  labels.shape = (500,)\n"
        },
        {
          "data": {
            "image/png": "[encoded data removed]",
            "text/plain": "<Figure size 432x288 with 1 Axes>"
          },
          "metadata": {
            "needs_background": "light"
          },
          "output_type": "display_data"
        }
      ],
      "source": [
        "# The following code creates the dataset we'll be using.\n",
        "\n",
        "import numpy as np\n",
        "import matplotlib.pyplot as plt\n",
        "from sklearn.datasets.samples_generator import make_moons\n",
        "\n",
        "np.random.seed(42) \n",
        "data, labels = make_moons(n_samples=500, noise=0.1)\n",
        "colors = ['r' if y else 'b' for y in labels]\n",
        "print('data.shape =', data.shape,',  labels.shape =', labels.shape)\n",
        "plt.scatter(data[:,0], data[:,1], c=colors)\n",
        "plt.show()"
      ]
    },
    {
      "cell_type": "markdown",
      "metadata": {
        "colab_type": "text",
        "id": "yV-5P4SRayJs"
      },
      "source": [
        "Logistic regression has a straight line for its decision boundary. Since one can't seperate the blue and red dots with a line, a logistic regression model can't possibly perfectly distinguish blue from red dots in this dataset. Our model can't possibly achieve 100% accuracy on this data.\n",
        "\n",
        "#### Note: ####\n",
        "For your code below, note that $$h = \\sigma(z)$$ and $$-\\nabla \\text{SSE} = X^T [(y-h)h(1-h)] \\quad\\quad (\\star)$$\n",
        "\n",
        "That last expression is what you're to implement for the negative of the gradient.                       \n",
        "\n",
        "Also notice that $X^T$ is the transpose of matrix $X$, and that we have a matrix multiplication going on between the matrix and the column vector inside the brackets."
      ]
    },
    {
      "cell_type": "code",
      "execution_count": 63,
      "metadata": {},
      "outputs": [
        {
          "data": {
            "image/png": "[encoded data removed]",
            "text/plain": "<Figure size 432x288 with 1 Axes>"
          },
          "metadata": {
            "needs_background": "light"
          },
          "output_type": "display_data"
        }
      ],
      "source": [
        "def logistic_regression(x, y, learning_rate, num_steps=40):\n",
        "    ''' Input:  x = the data\n",
        "                y = the labels\n",
        "                learning_rate = learning rate\n",
        "                num_steps = number of iterations \n",
        "        Output: w = the trained model weights    '''\n",
        "    y = y.flatten()\n",
        "    sigmoid = lambda s: 1 / (1 + np.exp(-s))\n",
        "    w = np.ones(3)\n",
        "    x = np.hstack((np.ones((x.shape[0],1)),x))\n",
        "    h = sigmoid(np.dot(x, w))\n",
        "    neg_grad = lambda _y,_h: x.transpose() @ ((_y-_h)*_h*(1-_h))\n",
        "    accuracy = y-h\n",
        "    # print('Initial Accuracy: ', accuracy)\n",
        "    for step in range(num_steps):\n",
        "        h = sigmoid(np.dot(x, w))\n",
        "        w = w + neg_grad(y,h)\n",
        "        accuracy = y-h\n",
        "        # print('Step', step + 1, ' Accuracy: ', accuracy)\n",
        "    # print(\"Final Accuracy: \", accuracy)\n",
        "    return w, np.round(h)\n",
        "\n",
        "ws, y = logistic_regression(data, labels.reshape((len(labels), 1)), 0.5)\n",
        "\n",
        "colors = ['g' if h==y else 'r' for h, y in zip(y, labels.astype(np.int))]\n",
        "plt.title('Classification Results')\n",
        "plt.scatter(data[:,0], data[:,1], c=colors)\n",
        "\n",
        "coeffs = (ws.T).tolist()\n",
        "xvals = [-1.2, 2.2]\n",
        "yvals = [-coeffs[1]/coeffs[2] * xval - coeffs[0]/coeffs[2] for xval  in xvals]\n",
        "plt.plot([xvals[0], xvals[1]], [yvals[0], yvals[1]], 'b-')"
      ]
    }
  ]
}