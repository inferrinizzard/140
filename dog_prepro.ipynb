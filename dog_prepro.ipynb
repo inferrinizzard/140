{
 "nbformat": 4,
 "nbformat_minor": 2,
 "metadata": {
  "language_info": {
   "name": "python",
   "codemirror_mode": {
    "name": "ipython",
    "version": 3
   },
   "version": "3.7.6-final"
  },
  "orig_nbformat": 2,
  "file_extension": ".py",
  "mimetype": "text/x-python",
  "name": "python",
  "npconvert_exporter": "python",
  "pygments_lexer": "ipython3",
  "version": 3,
  "kernelspec": {
   "name": "python37664bit00f6e62ef6c2468a9300be7d0e53937d",
   "display_name": "Python 3.7.6 64-bit"
  }
 },
 "cells": [
  {
   "cell_type": "code",
   "execution_count": 111,
   "metadata": {},
   "outputs": [],
   "source": [
    "import os\n",
    "import xml.etree.ElementTree as ET\n",
    "from PIL import Image "
   ]
  },
  {
   "cell_type": "code",
   "execution_count": 179,
   "metadata": {},
   "outputs": [],
   "source": [
    "def crop(file_path, margin=128, anno_root=\"annotation\", image_root=\"images\"):\n",
    "    tree = ET.parse(anno_root + file_path)\n",
    "    root = tree.getroot()\n",
    "    bounds = {}\n",
    "    if(len(root.findall(\"object\"))>1):\n",
    "        for obj in root.findall(\"object\"):\n",
    "            for child in obj.find(\"bndbox\"):\n",
    "                if(not bounds.get(child.tag)):\n",
    "                    bounds[child.tag] = int(child.text)\n",
    "                else:\n",
    "                    if(\"min\" in child.tag):\n",
    "                        bounds[child.tag] = min(bounds[child.tag], int(child.text))\n",
    "                    elif(\"max\" in child.tag):\n",
    "                        bounds[child.tag] = max(bounds[child.tag], int(child.text))\n",
    "    else:\n",
    "        for child in root.find(\"object\").find(\"bndbox\"):\n",
    "            bounds[child.tag] = int(child.text)\n",
    "    for child in root.find(\"size\"):\n",
    "        bounds[child.tag] = int(child.text)\n",
    "    if(bounds[\"width\"]<256 or bounds[\"height\"]<256):\n",
    "        os.remove(image_root + file_path+ \".jpg\")\n",
    "        return\n",
    "    bounds[\"xavg\"] = round((bounds[\"xmax\"]+bounds[\"xmin\"])/2)\n",
    "    bounds[\"yavg\"] = round((bounds[\"ymax\"]+bounds[\"ymin\"])/2)\n",
    "    try_crop_min = [bounds[\"xavg\"]-margin, bounds[\"yavg\"]-margin]\n",
    "    try_crop_max = [bounds[\"xavg\"]+margin, bounds[\"yavg\"]+margin]\n",
    "    if(try_crop_min[0]<0):\n",
    "        try_crop_max[0] -= try_crop_min[0]\n",
    "        try_crop_min[0] = 0\n",
    "    if(try_crop_min[1]<0):\n",
    "        try_crop_max[1] -= try_crop_min[1]\n",
    "        try_crop_min[1] = 0\n",
    "    if(try_crop_max[0]>bounds[\"width\"]):\n",
    "        try_crop_min[0] += bounds[\"width\"] - try_crop_max[0]\n",
    "        try_crop_max[0] = bounds[\"width\"]\n",
    "    if(try_crop_max[1]>bounds[\"height\"]):\n",
    "        try_crop_min[1] += bounds[\"height\"] - try_crop_max[1]\n",
    "        try_crop_max[1] = bounds[\"height\"]\n",
    "    bounds[\"crop_min\"] = try_crop_min\n",
    "    bounds[\"crop_max\"] = try_crop_max\n",
    "    # print(bounds)\n",
    "\n",
    "    img = Image.open(image_root+file_path+\".jpg\")\n",
    "    img = img.crop((*bounds[\"crop_min\"], *bounds[\"crop_max\"]))\n",
    "    img = img.convert(\"RGB\")\n",
    "    img.save(image_root+file_path+\".jpg\")"
   ]
  },
  {
   "cell_type": "code",
   "execution_count": 180,
   "metadata": {},
   "outputs": [
    {
     "name": "stdout",
     "output_type": "stream",
     "text": "n_hairless\\n02113978_3197\n\\n02113978-Mexican_hairless\\n02113978_3220\n\\n02113978-Mexican_hairless\\n02113978_3249\n\\n02113978-Mexican_hairless\\n02113978_3318\n\\n02113978-Mexican_hairless\\n02113978_3349\n\\n02113978-Mexican_hairless\\n02113978_3375\n\\n02113978-Mexican_hairless\\n02113978_3391\n\\n02113978-Mexican_hairless\\n02113978_341\n\\n02113978-Mexican_hairless\\n02113978_3419\n\\n02113978-Mexican_hairless\\n02113978_3474\n\\n02113978-Mexican_hairless\\n02113978_3480\n\\n02113978-Mexican_hairless\\n02113978_3504\n\\n02113978-Mexican_hairless\\n02113978_356\n\\n02113978-Mexican_hairless\\n02113978_3640\n\\n02113978-Mexican_hairless\\n02113978_3655\n\\n02113978-Mexican_hairless\\n02113978_3670\n\\n02113978-Mexican_hairless\\n02113978_3714\n\\n02113978-Mexican_hairless\\n02113978_3722\n\\n02113978-Mexican_hairless\\n02113978_3723\n\\n02113978-Mexican_hairless\\n02113978_3727\n\\n02113978-Mexican_hairless\\n02113978_3734\n\\n02113978-Mexican_hairless\\n02113978_3743\n\\n02113978-Mexican_hairless\\n02113978_3746\n\\n02113978-Mexican_hairless\\n02113978_375\n\\n02113978-Mexican_hairless\\n02113978_3790\n\\n02113978-Mexican_hairless\\n02113978_3794\n\\n02113978-Mexican_hairless\\n02113978_3804\n\\n02113978-Mexican_hairless\\n02113978_3822\n\\n02113978-Mexican_hairless\\n02113978_3823\n\\n02113978-Mexican_hairless\\n02113978_3832\n\\n02113978-Mexican_hairless\\n02113978_3843\n\\n02113978-Mexican_hairless\\n02113978_386\n\\n02113978-Mexican_hairless\\n02113978_3864\n\\n02113978-Mexican_hairless\\n02113978_3866\n\\n02113978-Mexican_hairless\\n02113978_3921\n\\n02113978-Mexican_hairless\\n02113978_451\n\\n02113978-Mexican_hairless\\n02113978_468\n\\n02113978-Mexican_hairless\\n02113978_471\n\\n02113978-Mexican_hairless\\n02113978_505\n\\n02113978-Mexican_hairless\\n02113978_530\n\\n02113978-Mexican_hairless\\n02113978_553\n\\n02113978-Mexican_hairless\\n02113978_573\n\\n02113978-Mexican_hairless\\n02113978_593\n\\n02113978-Mexican_hairless\\n02113978_605\n\\n02113978-Mexican_hairless\\n02113978_632\n\\n02113978-Mexican_hairless\\n02113978_697\n\\n02113978-Mexican_hairless\\n02113978_700\n\\n02113978-Mexican_hairless\\n02113978_737\n\\n02113978-Mexican_hairless\\n02113978_759\n\\n02113978-Mexican_hairless\\n02113978_773\n\\n02113978-Mexican_hairless\\n02113978_838\n\\n02113978-Mexican_hairless\\n02113978_839\n\\n02113978-Mexican_hairless\\n02113978_857\n\\n02113978-Mexican_hairless\\n02113978_870\n\\n02113978-Mexican_hairless\\n02113978_903\n\\n02113978-Mexican_hairless\\n02113978_937\n\\n02113978-Mexican_hairless\\n02113978_961\n\\n02113978-Mexican_hairless\\n02113978_996\n\\n02115641-dingo\\n02115641_10021\n\\n02115641-dingo\\n02115641_10261\n\\n02115641-dingo\\n02115641_10286\n\\n02115641-dingo\\n02115641_10395\n\\n02115641-dingo\\n02115641_10506\n\\n02115641-dingo\\n02115641_10561\n\\n02115641-dingo\\n02115641_10570\n\\n02115641-dingo\\n02115641_10604\n\\n02115641-dingo\\n02115641_10992\n\\n02115641-dingo\\n02115641_11220\n\\n02115641-dingo\\n02115641_1145\n\\n02115641-dingo\\n02115641_1154\n\\n02115641-dingo\\n02115641_11604\n\\n02115641-dingo\\n02115641_11668\n\\n02115641-dingo\\n02115641_11699\n\\n02115641-dingo\\n02115641_11717\n\\n02115641-dingo\\n02115641_12148\n\\n02115641-dingo\\n02115641_1215\n\\n02115641-dingo\\n02115641_1228\n\\n02115641-dingo\\n02115641_12541\n\\n02115641-dingo\\n02115641_12544\n\\n02115641-dingo\\n02115641_12634\n\\n02115641-dingo\\n02115641_12709\n\\n02115641-dingo\\n02115641_12836\n\\n02115641-dingo\\n02115641_12922\n\\n02115641-dingo\\n02115641_12981\n\\n02115641-dingo\\n02115641_13237\n\\n02115641-dingo\\n02115641_13253\n\\n02115641-dingo\\n02115641_13269\n\\n02115641-dingo\\n02115641_1327\n\\n02115641-dingo\\n02115641_13295\n\\n02115641-dingo\\n02115641_13450\n\\n02115641-dingo\\n02115641_13565\n\\n02115641-dingo\\n02115641_136\n\\n02115641-dingo\\n02115641_13605\n\\n02115641-dingo\\n02115641_1380\n\\n02115641-dingo\\n02115641_13839\n\\n02115641-dingo\\n02115641_14084\n\\n02115641-dingo\\n02115641_14117\n\\n02115641-dingo\\n02115641_14495\n\\n02115641-dingo\\n02115641_1513\n\\n02115641-dingo\\n02115641_1560\n\\n02115641-dingo\\n02115641_1574\n\\n02115641-dingo\\n02115641_1674\n\\n02115641-dingo\\n02115641_1940\n\\n02115641-dingo\\n02115641_1969\n\\n02115641-dingo\\n02115641_2041\n\\n02115641-dingo\\n02115641_2096\n\\n02115641-dingo\\n02115641_2424\n\\n02115641-dingo\\n02115641_2440\n\\n02115641-dingo\\n02115641_2500\n\\n02115641-dingo\\n02115641_2513\n\\n02115641-dingo\\n02115641_2636\n\\n02115641-dingo\\n02115641_266\n\\n02115641-dingo\\n02115641_2701\n\\n02115641-dingo\\n02115641_2764\n\\n02115641-dingo\\n02115641_2788\n\\n02115641-dingo\\n02115641_2871\n\\n02115641-dingo\\n02115641_2953\n\\n02115641-dingo\\n02115641_3110\n\\n02115641-dingo\\n02115641_3214\n\\n02115641-dingo\\n02115641_3360\n\\n02115641-dingo\\n02115641_3494\n\\n02115641-dingo\\n02115641_3736\n\\n02115641-dingo\\n02115641_3862\n\\n02115641-dingo\\n02115641_3977\n\\n02115641-dingo\\n02115641_3995\n\\n02115641-dingo\\n02115641_4262\n\\n02115641-dingo\\n02115641_4265\n\\n02115641-dingo\\n02115641_4527\n\\n02115641-dingo\\n02115641_4563\n\\n02115641-dingo\\n02115641_4601\n\\n02115641-dingo\\n02115641_4607\n\\n02115641-dingo\\n02115641_4674\n\\n02115641-dingo\\n02115641_4677\n\\n02115641-dingo\\n02115641_4692\n\\n02115641-dingo\\n02115641_4737\n\\n02115641-dingo\\n02115641_4800\n\\n02115641-dingo\\n02115641_4818\n\\n02115641-dingo\\n02115641_4830\n\\n02115641-dingo\\n02115641_4851\n\\n02115641-dingo\\n02115641_4951\n\\n02115641-dingo\\n02115641_4970\n\\n02115641-dingo\\n02115641_5033\n\\n02115641-dingo\\n02115641_504\n\\n02115641-dingo\\n02115641_5178\n\\n02115641-dingo\\n02115641_5320\n\\n02115641-dingo\\n02115641_5492\n\\n02115641-dingo\\n02115641_5687\n\\n02115641-dingo\\n02115641_5798\n\\n02115641-dingo\\n02115641_5815\n\\n02115641-dingo\\n02115641_5823\n\\n02115641-dingo\\n02115641_592\n\\n02115641-dingo\\n02115641_6183\n\\n02115641-dingo\\n02115641_6228\n\\n02115641-dingo\\n02115641_6250\n\\n02115641-dingo\\n02115641_630\n\\n02115641-dingo\\n02115641_6309\n\\n02115641-dingo\\n02115641_6380\n\\n02115641-dingo\\n02115641_6407\n\\n02115641-dingo\\n02115641_6490\n\\n02115641-dingo\\n02115641_6509\n\\n02115641-dingo\\n02115641_6575\n\\n02115641-dingo\\n02115641_6577\n\\n02115641-dingo\\n02115641_6579\n\\n02115641-dingo\\n02115641_6627\n\\n02115641-dingo\\n02115641_6639\n\\n02115641-dingo\\n02115641_670\n\\n02115641-dingo\\n02115641_6707\n\\n02115641-dingo\\n02115641_6716\n\\n02115641-dingo\\n02115641_6747\n\\n02115641-dingo\\n02115641_6772\n\\n02115641-dingo\\n02115641_6844\n\\n02115641-dingo\\n02115641_6974\n\\n02115641-dingo\\n02115641_7013\n\\n02115641-dingo\\n02115641_7071\n\\n02115641-dingo\\n02115641_7106\n\\n02115641-dingo\\n02115641_7109\n\\n02115641-dingo\\n02115641_7119\n\\n02115641-dingo\\n02115641_7158\n\\n02115641-dingo\\n02115641_7181\n\\n02115641-dingo\\n02115641_7203\n\\n02115641-dingo\\n02115641_7222\n\\n02115641-dingo\\n02115641_7237\n\\n02115641-dingo\\n02115641_726\n\\n02115641-dingo\\n02115641_7355\n\\n02115641-dingo\\n02115641_7400\n\\n02115641-dingo\\n02115641_7549\n\\n02115641-dingo\\n02115641_7620\n\\n02115641-dingo\\n02115641_7679\n\\n02115641-dingo\\n02115641_7898\n\\n02115641-dingo\\n02115641_8150\n\\n02115641-dingo\\n02115641_8168\n\\n02115641-dingo\\n02115641_8463\n\\n02115641-dingo\\n02115641_8474\n\\n02115641-dingo\\n02115641_8492\n\\n02115641-dingo\\n02115641_8578\n\\n02115641-dingo\\n02115641_8682\n\\n02115641-dingo\\n02115641_8746\n\\n02115641-dingo\\n02115641_877\n\\n02115641-dingo\\n02115641_8798\n\\n02115641-dingo\\n02115641_8871\n\\n02115641-dingo\\n02115641_9065\n\\n02115641-dingo\\n02115641_9067\n\\n02115641-dingo\\n02115641_9110\n\\n02115641-dingo\\n02115641_925\n\\n02115641-dingo\\n02115641_9272\n\\n02115641-dingo\\n02115641_9302\n\\n02115641-dingo\\n02115641_9348\n\\n02115641-dingo\\n02115641_9396\n\\n02115641-dingo\\n02115641_9455\n\\n02115641-dingo\\n02115641_9675\n\\n02115641-dingo\\n02115641_9686\n\\n02115641-dingo\\n02115641_970\n\\n02115641-dingo\\n02115641_9763\n\\n02115641-dingo\\n02115641_9977\n\\n02115913-dhole\\n02115913_1010\n\\n02115913-dhole\\n02115913_1047\n\\n02115913-dhole\\n02115913_1060\n\\n02115913-dhole\\n02115913_1066\n\\n02115913-dhole\\n02115913_1067\n\\n02115913-dhole\\n02115913_1142\n\\n02115913-dhole\\n02115913_1188\n\\n02115913-dhole\\n02115913_1213\n\\n02115913-dhole\\n02115913_1224\n\\n02115913-dhole\\n02115913_1233\n\\n02115913-dhole\\n02115913_1244\n\\n02115913-dhole\\n02115913_1273\n\\n02115913-dhole\\n02115913_1288\n\\n02115913-dhole\\n02115913_1323\n\\n02115913-dhole\\n02115913_1332\n\\n02115913-dhole\\n02115913_1334\n\\n02115913-dhole\\n02115913_1352\n\\n02115913-dhole\\n02115913_139\n\\n02115913-dhole\\n02115913_1449\n\\n02115913-dhole\\n02115913_1493\n\\n02115913-dhole\\n02115913_1522\n\\n02115913-dhole\\n02115913_1552\n\\n02115913-dhole\\n02115913_1578\n\\n02115913-dhole\\n02115913_1622\n\\n02115913-dhole\\n02115913_1631\n\\n02115913-dhole\\n02115913_1637\n\\n02115913-dhole\\n02115913_1663\n\\n02115913-dhole\\n02115913_1677\n\\n02115913-dhole\\n02115913_1682\n\\n02115913-dhole\\n02115913_1688\n\\n02115913-dhole\\n02115913_1742\n\\n02115913-dhole\\n02115913_1744\n\\n02115913-dhole\\n02115913_1772\n\\n02115913-dhole\\n02115913_1796\n\\n02115913-dhole\\n02115913_1830\n\\n02115913-dhole\\n02115913_1897\n\\n02115913-dhole\\n02115913_1963\n\\n02115913-dhole\\n02115913_1979\n\\n02115913-dhole\\n02115913_2005\n\\n02115913-dhole\\n02115913_2014\n\\n02115913-dhole\\n02115913_2029\n\\n02115913-dhole\\n02115913_2044\n\\n02115913-dhole\\n02115913_2138\n\\n02115913-dhole\\n02115913_219\n\\n02115913-dhole\\n02115913_2253\n\\n02115913-dhole\\n02115913_2259\n\\n02115913-dhole\\n02115913_2264\n\\n02115913-dhole\\n02115913_2300\n\\n02115913-dhole\\n02115913_2320\n\\n02115913-dhole\\n02115913_2325\n\\n02115913-dhole\\n02115913_2338\n\\n02115913-dhole\\n02115913_2365\n\\n02115913-dhole\\n02115913_2412\n\\n02115913-dhole\\n02115913_2414\n\\n02115913-dhole\\n02115913_2480\n\\n02115913-dhole\\n02115913_25\n\\n02115913-dhole\\n02115913_250\n\\n02115913-dhole\\n02115913_2520\n\\n02115913-dhole\\n02115913_2524\n\\n02115913-dhole\\n02115913_253\n\\n02115913-dhole\\n02115913_2542\n\\n02115913-dhole\\n02115913_257\n\\n02115913-dhole\\n02115913_2579\n\\n02115913-dhole\\n02115913_262\n\\n02115913-dhole\\n02115913_2657\n\\n02115913-dhole\\n02115913_2841\n\\n02115913-dhole\\n02115913_2895\n\\n02115913-dhole\\n02115913_3010\n\\n02115913-dhole\\n02115913_3052\n\\n02115913-dhole\\n02115913_3107\n\\n02115913-dhole\\n02115913_311\n\\n02115913-dhole\\n02115913_3115\n\\n02115913-dhole\\n02115913_312\n\\n02115913-dhole\\n02115913_3178\n\\n02115913-dhole\\n02115913_3196\n\\n02115913-dhole\\n02115913_3229\n\\n02115913-dhole\\n02115913_3270\n\\n02115913-dhole\\n02115913_3278\n\\n02115913-dhole\\n02115913_3313\n\\n02115913-dhole\\n02115913_3465\n\\n02115913-dhole\\n02115913_3473\n\\n02115913-dhole\\n02115913_3480\n\\n02115913-dhole\\n02115913_3527\n\\n02115913-dhole\\n02115913_3529\n\\n02115913-dhole\\n02115913_359\n\\n02115913-dhole\\n02115913_3601\n\\n02115913-dhole\\n02115913_3647\n\\n02115913-dhole\\n02115913_368\n\\n02115913-dhole\\n02115913_3740\n\\n02115913-dhole\\n02115913_3743\n\\n02115913-dhole\\n02115913_3753\n\\n02115913-dhole\\n02115913_38\n\\n02115913-dhole\\n02115913_3800\n\\n02115913-dhole\\n02115913_3842\n\\n02115913-dhole\\n02115913_3850\n\\n02115913-dhole\\n02115913_3854\n\\n02115913-dhole\\n02115913_3863\n\\n02115913-dhole\\n02115913_3875\n\\n02115913-dhole\\n02115913_3878\n\\n02115913-dhole\\n02115913_3902\n\\n02115913-dhole\\n02115913_3918\n\\n02115913-dhole\\n02115913_3991\n\\n02115913-dhole\\n02115913_3994\n\\n02115913-dhole\\n02115913_3998\n\\n02115913-dhole\\n02115913_4025\n\\n02115913-dhole\\n02115913_4031\n\\n02115913-dhole\\n02115913_4032\n\\n02115913-dhole\\n02115913_4047\n\\n02115913-dhole\\n02115913_4055\n\\n02115913-dhole\\n02115913_4059\n\\n02115913-dhole\\n02115913_4082\n\\n02115913-dhole\\n02115913_4110\n\\n02115913-dhole\\n02115913_4117\n\\n02115913-dhole\\n02115913_4119\n\\n02115913-dhole\\n02115913_4128\n\\n02115913-dhole\\n02115913_4129\n\\n02115913-dhole\\n02115913_4144\n\\n02115913-dhole\\n02115913_4163\n\\n02115913-dhole\\n02115913_4179\n\\n02115913-dhole\\n02115913_4188\n\\n02115913-dhole\\n02115913_423\n\\n02115913-dhole\\n02115913_4266\n\\n02115913-dhole\\n02115913_4273\n\\n02115913-dhole\\n02115913_4275\n\\n02115913-dhole\\n02115913_4308\n\\n02115913-dhole\\n02115913_4313\n\\n02115913-dhole\\n02115913_4320\n\\n02115913-dhole\\n02115913_4336\n\\n02115913-dhole\\n02115913_44\n\\n02115913-dhole\\n02115913_4429\n\\n02115913-dhole\\n02115913_4542\n\\n02115913-dhole\\n02115913_520\n\\n02115913-dhole\\n02115913_539\n\\n02115913-dhole\\n02115913_5392\n\\n02115913-dhole\\n02115913_5418\n\\n02115913-dhole\\n02115913_5469\n\\n02115913-dhole\\n02115913_5507\n\\n02115913-dhole\\n02115913_5593\n\\n02115913-dhole\\n02115913_564\n\\n02115913-dhole\\n02115913_593\n\\n02115913-dhole\\n02115913_612\n\\n02115913-dhole\\n02115913_614\n\\n02115913-dhole\\n02115913_676\n\\n02115913-dhole\\n02115913_678\n\\n02115913-dhole\\n02115913_739\n\\n02115913-dhole\\n02115913_750\n\\n02115913-dhole\\n02115913_90\n\\n02115913-dhole\\n02115913_907\n\\n02115913-dhole\\n02115913_915\n\\n02115913-dhole\\n02115913_92\n\\n02116738-African_hunting_dog\\n02116738_10024\n\\n02116738-African_hunting_dog\\n02116738_10038\n\\n02116738-African_hunting_dog\\n02116738_10081\n\\n02116738-African_hunting_dog\\n02116738_10169\n\\n02116738-African_hunting_dog\\n02116738_10215\n\\n02116738-African_hunting_dog\\n02116738_10469\n\\n02116738-African_hunting_dog\\n02116738_10476\n\\n02116738-African_hunting_dog\\n02116738_10493\n\\n02116738-African_hunting_dog\\n02116738_10575\n\\n02116738-African_hunting_dog\\n02116738_10614\n\\n02116738-African_hunting_dog\\n02116738_10640\n\\n02116738-African_hunting_dog\\n02116738_10872\n\\n02116738-African_hunting_dog\\n02116738_10895\n\\n02116738-African_hunting_dog\\n02116738_1097\n\\n02116738-African_hunting_dog\\n02116738_1105\n\\n02116738-African_hunting_dog\\n02116738_1180\n\\n02116738-African_hunting_dog\\n02116738_124\n\\n02116738-African_hunting_dog\\n02116738_1398\n\\n02116738-African_hunting_dog\\n02116738_1591\n\\n02116738-African_hunting_dog\\n02116738_1627\n\\n02116738-African_hunting_dog\\n02116738_1739\n\\n02116738-African_hunting_dog\\n02116738_1815\n\\n02116738-African_hunting_dog\\n02116738_1849\n\\n02116738-African_hunting_dog\\n02116738_1927\n\\n02116738-African_hunting_dog\\n02116738_1948\n\\n02116738-African_hunting_dog\\n02116738_2005\n\\n02116738-African_hunting_dog\\n02116738_2020\n\\n02116738-African_hunting_dog\\n02116738_204\n\\n02116738-African_hunting_dog\\n02116738_2083\n\\n02116738-African_hunting_dog\\n02116738_2139\n\\n02116738-African_hunting_dog\\n02116738_219\n\\n02116738-African_hunting_dog\\n02116738_2192\n\\n02116738-African_hunting_dog\\n02116738_2327\n\\n02116738-African_hunting_dog\\n02116738_2329\n\\n02116738-African_hunting_dog\\n02116738_233\n\\n02116738-African_hunting_dog\\n02116738_2344\n\\n02116738-African_hunting_dog\\n02116738_2435\n\\n02116738-African_hunting_dog\\n02116738_246\n\\n02116738-African_hunting_dog\\n02116738_2482\n\\n02116738-African_hunting_dog\\n02116738_2503\n\\n02116738-African_hunting_dog\\n02116738_2514\n\\n02116738-African_hunting_dog\\n02116738_2515\n\\n02116738-African_hunting_dog\\n02116738_2557\n\\n02116738-African_hunting_dog\\n02116738_2599\n\\n02116738-African_hunting_dog\\n02116738_2600\n\\n02116738-African_hunting_dog\\n02116738_2614\n\\n02116738-African_hunting_dog\\n02116738_2675\n\\n02116738-African_hunting_dog\\n02116738_2757\n\\n02116738-African_hunting_dog\\n02116738_2770\n\\n02116738-African_hunting_dog\\n02116738_2802\n\\n02116738-African_hunting_dog\\n02116738_288\n\\n02116738-African_hunting_dog\\n02116738_291\n\\n02116738-African_hunting_dog\\n02116738_2942\n\\n02116738-African_hunting_dog\\n02116738_2988\n\\n02116738-African_hunting_dog\\n02116738_3024\n\\n02116738-African_hunting_dog\\n02116738_308\n\\n02116738-African_hunting_dog\\n02116738_3160\n\\n02116738-African_hunting_dog\\n02116738_328\n\\n02116738-African_hunting_dog\\n02116738_3365\n\\n02116738-African_hunting_dog\\n02116738_3422\n\\n02116738-African_hunting_dog\\n02116738_3589\n\\n02116738-African_hunting_dog\\n02116738_3635\n\\n02116738-African_hunting_dog\\n02116738_3692\n\\n02116738-African_hunting_dog\\n02116738_3720\n\\n02116738-African_hunting_dog\\n02116738_3819\n\\n02116738-African_hunting_dog\\n02116738_385\n\\n02116738-African_hunting_dog\\n02116738_4019\n\\n02116738-African_hunting_dog\\n02116738_4098\n\\n02116738-African_hunting_dog\\n02116738_4102\n\\n02116738-African_hunting_dog\\n02116738_4115\n\\n02116738-African_hunting_dog\\n02116738_4138\n\\n02116738-African_hunting_dog\\n02116738_431\n\\n02116738-African_hunting_dog\\n02116738_4323\n\\n02116738-African_hunting_dog\\n02116738_4335\n\\n02116738-African_hunting_dog\\n02116738_4367\n\\n02116738-African_hunting_dog\\n02116738_4382\n\\n02116738-African_hunting_dog\\n02116738_4461\n\\n02116738-African_hunting_dog\\n02116738_4508\n\\n02116738-African_hunting_dog\\n02116738_4641\n\\n02116738-African_hunting_dog\\n02116738_4720\n\\n02116738-African_hunting_dog\\n02116738_4732\n\\n02116738-African_hunting_dog\\n02116738_4734\n\\n02116738-African_hunting_dog\\n02116738_4742\n\\n02116738-African_hunting_dog\\n02116738_4758\n\\n02116738-African_hunting_dog\\n02116738_4796\n\\n02116738-African_hunting_dog\\n02116738_4834\n\\n02116738-African_hunting_dog\\n02116738_4991\n\\n02116738-African_hunting_dog\\n02116738_500\n\\n02116738-African_hunting_dog\\n02116738_5068\n\\n02116738-African_hunting_dog\\n02116738_5241\n\\n02116738-African_hunting_dog\\n02116738_5312\n\\n02116738-African_hunting_dog\\n02116738_5338\n\\n02116738-African_hunting_dog\\n02116738_5519\n\\n02116738-African_hunting_dog\\n02116738_5635\n\\n02116738-African_hunting_dog\\n02116738_5661\n\\n02116738-African_hunting_dog\\n02116738_5683\n\\n02116738-African_hunting_dog\\n02116738_5697\n\\n02116738-African_hunting_dog\\n02116738_5932\n\\n02116738-African_hunting_dog\\n02116738_5936\n\\n02116738-African_hunting_dog\\n02116738_5953\n\\n02116738-African_hunting_dog\\n02116738_5956\n\\n02116738-African_hunting_dog\\n02116738_5993\n\\n02116738-African_hunting_dog\\n02116738_6038\n\\n02116738-African_hunting_dog\\n02116738_6044\n\\n02116738-African_hunting_dog\\n02116738_607\n\\n02116738-African_hunting_dog\\n02116738_6076\n\\n02116738-African_hunting_dog\\n02116738_6092\n\\n02116738-African_hunting_dog\\n02116738_6117\n\\n02116738-African_hunting_dog\\n02116738_6283\n\\n02116738-African_hunting_dog\\n02116738_6297\n\\n02116738-African_hunting_dog\\n02116738_6330\n\\n02116738-African_hunting_dog\\n02116738_634\n\\n02116738-African_hunting_dog\\n02116738_6563\n\\n02116738-African_hunting_dog\\n02116738_662\n\\n02116738-African_hunting_dog\\n02116738_6746\n\\n02116738-African_hunting_dog\\n02116738_6748\n\\n02116738-African_hunting_dog\\n02116738_6754\n\\n02116738-African_hunting_dog\\n02116738_678\n\\n02116738-African_hunting_dog\\n02116738_6790\n\\n02116738-African_hunting_dog\\n02116738_6813\n\\n02116738-African_hunting_dog\\n02116738_684\n\\n02116738-African_hunting_dog\\n02116738_7008\n\\n02116738-African_hunting_dog\\n02116738_7026\n\\n02116738-African_hunting_dog\\n02116738_7060\n\\n02116738-African_hunting_dog\\n02116738_7105\n\\n02116738-African_hunting_dog\\n02116738_7122\n\\n02116738-African_hunting_dog\\n02116738_7170\n\\n02116738-African_hunting_dog\\n02116738_7340\n\\n02116738-African_hunting_dog\\n02116738_7506\n\\n02116738-African_hunting_dog\\n02116738_7537\n\\n02116738-African_hunting_dog\\n02116738_7578\n\\n02116738-African_hunting_dog\\n02116738_7580\n\\n02116738-African_hunting_dog\\n02116738_7590\n\\n02116738-African_hunting_dog\\n02116738_7601\n\\n02116738-African_hunting_dog\\n02116738_7657\n\\n02116738-African_hunting_dog\\n02116738_7753\n\\n02116738-African_hunting_dog\\n02116738_7988\n\\n02116738-African_hunting_dog\\n02116738_8037\n\\n02116738-African_hunting_dog\\n02116738_806\n\\n02116738-African_hunting_dog\\n02116738_8095\n\\n02116738-African_hunting_dog\\n02116738_8226\n\\n02116738-African_hunting_dog\\n02116738_8341\n\\n02116738-African_hunting_dog\\n02116738_8403\n\\n02116738-African_hunting_dog\\n02116738_8489\n\\n02116738-African_hunting_dog\\n02116738_849\n\\n02116738-African_hunting_dog\\n02116738_8512\n\\n02116738-African_hunting_dog\\n02116738_8579\n\\n02116738-African_hunting_dog\\n02116738_8653\n\\n02116738-African_hunting_dog\\n02116738_8662\n\\n02116738-African_hunting_dog\\n02116738_8669\n\\n02116738-African_hunting_dog\\n02116738_8696\n\\n02116738-African_hunting_dog\\n02116738_8719\n\\n02116738-African_hunting_dog\\n02116738_8734\n\\n02116738-African_hunting_dog\\n02116738_8738\n\\n02116738-African_hunting_dog\\n02116738_8749\n\\n02116738-African_hunting_dog\\n02116738_8945\n\\n02116738-African_hunting_dog\\n02116738_9164\n\\n02116738-African_hunting_dog\\n02116738_9232\n\\n02116738-African_hunting_dog\\n02116738_9282\n\\n02116738-African_hunting_dog\\n02116738_9333\n\\n02116738-African_hunting_dog\\n02116738_9603\n\\n02116738-African_hunting_dog\\n02116738_9748\n\\n02116738-African_hunting_dog\\n02116738_9762\n\\n02116738-African_hunting_dog\\n02116738_9769\n\\n02116738-African_hunting_dog\\n02116738_9798\n\\n02116738-African_hunting_dog\\n02116738_9818\n\\n02116738-African_hunting_dog\\n02116738_9829\n\\n02116738-African_hunting_dog\\n02116738_9844\n\\n02116738-African_hunting_dog\\n02116738_9924\n"
    }
   ],
   "source": [
    "anno_root = \"annotation\"\n",
    "image_root = \"images\"\n",
    "for cat in os.listdir(anno_root):\n",
    "    for file in os.listdir(anno_root+\"\\\\\"+cat):\n",
    "        file_path = \"\\\\\".join([\"\",cat,file])\n",
    "        print(file_path)\n",
    "        # if(os.path.isfile(file_path)):\n",
    "        crop(file_path)\n",
    "            "
   ]
  },
  {
   "cell_type": "code",
   "execution_count": 175,
   "metadata": {},
   "outputs": [
    {
     "name": "stdout",
     "output_type": "stream",
     "text": "442.5318756073858 385.8612244897959\n20580 24260\n"
    }
   ],
   "source": [
    "w = 0\n",
    "h = 0\n",
    "num = 0\n",
    "num_small = 0\n",
    "for cat in os.listdir(anno_root):\n",
    "    for file in os.listdir(anno_root+\"\\\\\"+cat):\n",
    "        file_path = \"\\\\\".join([\"\",cat,file])\n",
    "        num+=1\n",
    "        tree = ET.parse(anno_root + file_path)\n",
    "        root = tree.getroot()\n",
    "        bounds = {}\n",
    "        for child in root.find(\"size\"):\n",
    "            bounds[child.tag] = int(child.text)\n",
    "        if(bounds[\"width\"]<256 or bounds[\"height\"]<256):\n",
    "            num_small+=1\n",
    "        w += bounds[\"width\"]\n",
    "        h += bounds[\"height\"]\n",
    "print(w/num, h/num)\n",
    "print(num, num_small)"
   ]
  }
 ]
}